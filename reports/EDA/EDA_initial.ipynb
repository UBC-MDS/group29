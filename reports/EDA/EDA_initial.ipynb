{
 "cells": [
  {
   "cell_type": "markdown",
   "metadata": {},
   "source": [
    "# Exploratory Data Analysis - DSCI 522 Group 29"
   ]
  },
  {
   "cell_type": "markdown",
   "metadata": {},
   "source": [
    "## Authors\n",
    "\n",
    "* Rachel Wong\n",
    "* Javairia Raza\n",
    "* Sukhdeep Kaur\n",
    "* Zhiyong Wang\n",
    "\n",
    "GitHub link to group repository: https://github.com/UBC-MDS/group29\n",
    "\n",
    "GitHub link to EDA: https://github.com/UBC-MDS/group29/blob/main/reports/EDA/EDA_initial.ipynb"
   ]
  },
  {
   "cell_type": "markdown",
   "metadata": {},
   "source": [
    "## Introduction\n",
    "\n",
    "Initial exploratory data analysis of diabetic encounters dataset. Using this diabetic encounters dataset, our aim is to answer the question: XXX\n",
    "\n",
    "This dataset was taken from https://archive.ics.uci.edu/ml/datasets/diabetes+130-us+hospitals+for+years+1999-2008# of encounters with diabetic patients from 1999-2008 in 130 hospitals across the United States of America. Research from this collected data was used to assess diabetic care during hospitalization and determine if patients were likely to be readmitted or not.\n",
    "\n",
    "The paper detailing the data collection and research can be found here: https://www.hindawi.com/journals/bmri/2014/781670/\n",
    "\n",
    "Feature descriptions about the data can be found here: https://www.hindawi.com/journals/bmri/2014/781670/tab1/"
   ]
  },
  {
   "cell_type": "markdown",
   "metadata": {},
   "source": [
    "## EDA:"
   ]
  },
  {
   "cell_type": "markdown",
   "metadata": {},
   "source": [
    "### Import Packages"
   ]
  },
  {
   "cell_type": "code",
   "execution_count": 2,
   "metadata": {},
   "outputs": [],
   "source": [
    "import numpy as np\n",
    "import pandas as pd\n",
    "import altair as alt\n",
    "from pandas_profiling import ProfileReport"
   ]
  },
  {
   "cell_type": "code",
   "execution_count": 3,
   "metadata": {},
   "outputs": [
    {
     "data": {
      "text/plain": [
       "DataTransformerRegistry.enable('data_server')"
      ]
     },
     "execution_count": 3,
     "metadata": {},
     "output_type": "execute_result"
    }
   ],
   "source": [
    "# Save a vega-lite spec and a PNG blob for each plot in the notebook\n",
    "alt.renderers.enable('mimetype')\n",
    "# Handle large data sets without embedding them in the notebook\n",
    "alt.data_transformers.enable('data_server')"
   ]
  },
  {
   "cell_type": "code",
   "execution_count": 4,
   "metadata": {},
   "outputs": [],
   "source": [
    "# Packages necessary for importing data (from a zip file containing 2 dataset CSVs)\n",
    "import requests, zipfile\n",
    "from urllib.request import urlopen\n",
    "from io import BytesIO"
   ]
  },
  {
   "cell_type": "code",
   "execution_count": 5,
   "metadata": {},
   "outputs": [],
   "source": [
    "# Packages necessary for data splitting\n",
    "from sklearn.model_selection import train_test_split"
   ]
  },
  {
   "cell_type": "markdown",
   "metadata": {},
   "source": [
    "### Import the Dataset"
   ]
  },
  {
   "cell_type": "code",
   "execution_count": 6,
   "metadata": {},
   "outputs": [],
   "source": [
    "zip_file_url = \"https://archive.ics.uci.edu/ml/machine-learning-databases/00296/dataset_diabetes.zip\"\n",
    "zip_file_load = urlopen(zip_file_url)\n",
    "zipinmemory = BytesIO(zip_file_load.read())\n",
    "zip_file = zipfile.ZipFile(zipinmemory)\n",
    "\n",
    "# Only load the first file in the zip folder\n",
    "diabetes_csv = pd.read_csv(zip_file.open(zip_file.namelist()[0]))"
   ]
  },
  {
   "cell_type": "markdown",
   "metadata": {},
   "source": [
    "### Explore Dataset Features"
   ]
  },
  {
   "cell_type": "code",
   "execution_count": 6,
   "metadata": {},
   "outputs": [
    {
     "data": {
      "text/html": [
       "<div>\n",
       "<style scoped>\n",
       "    .dataframe tbody tr th:only-of-type {\n",
       "        vertical-align: middle;\n",
       "    }\n",
       "\n",
       "    .dataframe tbody tr th {\n",
       "        vertical-align: top;\n",
       "    }\n",
       "\n",
       "    .dataframe thead th {\n",
       "        text-align: right;\n",
       "    }\n",
       "</style>\n",
       "<table border=\"1\" class=\"dataframe\">\n",
       "  <thead>\n",
       "    <tr style=\"text-align: right;\">\n",
       "      <th></th>\n",
       "      <th>encounter_id</th>\n",
       "      <th>patient_nbr</th>\n",
       "      <th>race</th>\n",
       "      <th>gender</th>\n",
       "      <th>age</th>\n",
       "      <th>weight</th>\n",
       "      <th>admission_type_id</th>\n",
       "      <th>discharge_disposition_id</th>\n",
       "      <th>admission_source_id</th>\n",
       "      <th>time_in_hospital</th>\n",
       "      <th>...</th>\n",
       "      <th>citoglipton</th>\n",
       "      <th>insulin</th>\n",
       "      <th>glyburide-metformin</th>\n",
       "      <th>glipizide-metformin</th>\n",
       "      <th>glimepiride-pioglitazone</th>\n",
       "      <th>metformin-rosiglitazone</th>\n",
       "      <th>metformin-pioglitazone</th>\n",
       "      <th>change</th>\n",
       "      <th>diabetesMed</th>\n",
       "      <th>readmitted</th>\n",
       "    </tr>\n",
       "  </thead>\n",
       "  <tbody>\n",
       "    <tr>\n",
       "      <th>0</th>\n",
       "      <td>2278392</td>\n",
       "      <td>8222157</td>\n",
       "      <td>Caucasian</td>\n",
       "      <td>Female</td>\n",
       "      <td>[0-10)</td>\n",
       "      <td>?</td>\n",
       "      <td>6</td>\n",
       "      <td>25</td>\n",
       "      <td>1</td>\n",
       "      <td>1</td>\n",
       "      <td>...</td>\n",
       "      <td>No</td>\n",
       "      <td>No</td>\n",
       "      <td>No</td>\n",
       "      <td>No</td>\n",
       "      <td>No</td>\n",
       "      <td>No</td>\n",
       "      <td>No</td>\n",
       "      <td>No</td>\n",
       "      <td>No</td>\n",
       "      <td>NO</td>\n",
       "    </tr>\n",
       "    <tr>\n",
       "      <th>1</th>\n",
       "      <td>149190</td>\n",
       "      <td>55629189</td>\n",
       "      <td>Caucasian</td>\n",
       "      <td>Female</td>\n",
       "      <td>[10-20)</td>\n",
       "      <td>?</td>\n",
       "      <td>1</td>\n",
       "      <td>1</td>\n",
       "      <td>7</td>\n",
       "      <td>3</td>\n",
       "      <td>...</td>\n",
       "      <td>No</td>\n",
       "      <td>Up</td>\n",
       "      <td>No</td>\n",
       "      <td>No</td>\n",
       "      <td>No</td>\n",
       "      <td>No</td>\n",
       "      <td>No</td>\n",
       "      <td>Ch</td>\n",
       "      <td>Yes</td>\n",
       "      <td>&gt;30</td>\n",
       "    </tr>\n",
       "    <tr>\n",
       "      <th>2</th>\n",
       "      <td>64410</td>\n",
       "      <td>86047875</td>\n",
       "      <td>AfricanAmerican</td>\n",
       "      <td>Female</td>\n",
       "      <td>[20-30)</td>\n",
       "      <td>?</td>\n",
       "      <td>1</td>\n",
       "      <td>1</td>\n",
       "      <td>7</td>\n",
       "      <td>2</td>\n",
       "      <td>...</td>\n",
       "      <td>No</td>\n",
       "      <td>No</td>\n",
       "      <td>No</td>\n",
       "      <td>No</td>\n",
       "      <td>No</td>\n",
       "      <td>No</td>\n",
       "      <td>No</td>\n",
       "      <td>No</td>\n",
       "      <td>Yes</td>\n",
       "      <td>NO</td>\n",
       "    </tr>\n",
       "    <tr>\n",
       "      <th>3</th>\n",
       "      <td>500364</td>\n",
       "      <td>82442376</td>\n",
       "      <td>Caucasian</td>\n",
       "      <td>Male</td>\n",
       "      <td>[30-40)</td>\n",
       "      <td>?</td>\n",
       "      <td>1</td>\n",
       "      <td>1</td>\n",
       "      <td>7</td>\n",
       "      <td>2</td>\n",
       "      <td>...</td>\n",
       "      <td>No</td>\n",
       "      <td>Up</td>\n",
       "      <td>No</td>\n",
       "      <td>No</td>\n",
       "      <td>No</td>\n",
       "      <td>No</td>\n",
       "      <td>No</td>\n",
       "      <td>Ch</td>\n",
       "      <td>Yes</td>\n",
       "      <td>NO</td>\n",
       "    </tr>\n",
       "    <tr>\n",
       "      <th>4</th>\n",
       "      <td>16680</td>\n",
       "      <td>42519267</td>\n",
       "      <td>Caucasian</td>\n",
       "      <td>Male</td>\n",
       "      <td>[40-50)</td>\n",
       "      <td>?</td>\n",
       "      <td>1</td>\n",
       "      <td>1</td>\n",
       "      <td>7</td>\n",
       "      <td>1</td>\n",
       "      <td>...</td>\n",
       "      <td>No</td>\n",
       "      <td>Steady</td>\n",
       "      <td>No</td>\n",
       "      <td>No</td>\n",
       "      <td>No</td>\n",
       "      <td>No</td>\n",
       "      <td>No</td>\n",
       "      <td>Ch</td>\n",
       "      <td>Yes</td>\n",
       "      <td>NO</td>\n",
       "    </tr>\n",
       "    <tr>\n",
       "      <th>5</th>\n",
       "      <td>35754</td>\n",
       "      <td>82637451</td>\n",
       "      <td>Caucasian</td>\n",
       "      <td>Male</td>\n",
       "      <td>[50-60)</td>\n",
       "      <td>?</td>\n",
       "      <td>2</td>\n",
       "      <td>1</td>\n",
       "      <td>2</td>\n",
       "      <td>3</td>\n",
       "      <td>...</td>\n",
       "      <td>No</td>\n",
       "      <td>Steady</td>\n",
       "      <td>No</td>\n",
       "      <td>No</td>\n",
       "      <td>No</td>\n",
       "      <td>No</td>\n",
       "      <td>No</td>\n",
       "      <td>No</td>\n",
       "      <td>Yes</td>\n",
       "      <td>&gt;30</td>\n",
       "    </tr>\n",
       "    <tr>\n",
       "      <th>6</th>\n",
       "      <td>55842</td>\n",
       "      <td>84259809</td>\n",
       "      <td>Caucasian</td>\n",
       "      <td>Male</td>\n",
       "      <td>[60-70)</td>\n",
       "      <td>?</td>\n",
       "      <td>3</td>\n",
       "      <td>1</td>\n",
       "      <td>2</td>\n",
       "      <td>4</td>\n",
       "      <td>...</td>\n",
       "      <td>No</td>\n",
       "      <td>Steady</td>\n",
       "      <td>No</td>\n",
       "      <td>No</td>\n",
       "      <td>No</td>\n",
       "      <td>No</td>\n",
       "      <td>No</td>\n",
       "      <td>Ch</td>\n",
       "      <td>Yes</td>\n",
       "      <td>NO</td>\n",
       "    </tr>\n",
       "    <tr>\n",
       "      <th>7</th>\n",
       "      <td>63768</td>\n",
       "      <td>114882984</td>\n",
       "      <td>Caucasian</td>\n",
       "      <td>Male</td>\n",
       "      <td>[70-80)</td>\n",
       "      <td>?</td>\n",
       "      <td>1</td>\n",
       "      <td>1</td>\n",
       "      <td>7</td>\n",
       "      <td>5</td>\n",
       "      <td>...</td>\n",
       "      <td>No</td>\n",
       "      <td>No</td>\n",
       "      <td>No</td>\n",
       "      <td>No</td>\n",
       "      <td>No</td>\n",
       "      <td>No</td>\n",
       "      <td>No</td>\n",
       "      <td>No</td>\n",
       "      <td>Yes</td>\n",
       "      <td>&gt;30</td>\n",
       "    </tr>\n",
       "    <tr>\n",
       "      <th>8</th>\n",
       "      <td>12522</td>\n",
       "      <td>48330783</td>\n",
       "      <td>Caucasian</td>\n",
       "      <td>Female</td>\n",
       "      <td>[80-90)</td>\n",
       "      <td>?</td>\n",
       "      <td>2</td>\n",
       "      <td>1</td>\n",
       "      <td>4</td>\n",
       "      <td>13</td>\n",
       "      <td>...</td>\n",
       "      <td>No</td>\n",
       "      <td>Steady</td>\n",
       "      <td>No</td>\n",
       "      <td>No</td>\n",
       "      <td>No</td>\n",
       "      <td>No</td>\n",
       "      <td>No</td>\n",
       "      <td>Ch</td>\n",
       "      <td>Yes</td>\n",
       "      <td>NO</td>\n",
       "    </tr>\n",
       "    <tr>\n",
       "      <th>9</th>\n",
       "      <td>15738</td>\n",
       "      <td>63555939</td>\n",
       "      <td>Caucasian</td>\n",
       "      <td>Female</td>\n",
       "      <td>[90-100)</td>\n",
       "      <td>?</td>\n",
       "      <td>3</td>\n",
       "      <td>3</td>\n",
       "      <td>4</td>\n",
       "      <td>12</td>\n",
       "      <td>...</td>\n",
       "      <td>No</td>\n",
       "      <td>Steady</td>\n",
       "      <td>No</td>\n",
       "      <td>No</td>\n",
       "      <td>No</td>\n",
       "      <td>No</td>\n",
       "      <td>No</td>\n",
       "      <td>Ch</td>\n",
       "      <td>Yes</td>\n",
       "      <td>NO</td>\n",
       "    </tr>\n",
       "  </tbody>\n",
       "</table>\n",
       "<p>10 rows × 50 columns</p>\n",
       "</div>"
      ],
      "text/plain": [
       "   encounter_id  patient_nbr             race  gender       age weight  \\\n",
       "0       2278392      8222157        Caucasian  Female    [0-10)      ?   \n",
       "1        149190     55629189        Caucasian  Female   [10-20)      ?   \n",
       "2         64410     86047875  AfricanAmerican  Female   [20-30)      ?   \n",
       "3        500364     82442376        Caucasian    Male   [30-40)      ?   \n",
       "4         16680     42519267        Caucasian    Male   [40-50)      ?   \n",
       "5         35754     82637451        Caucasian    Male   [50-60)      ?   \n",
       "6         55842     84259809        Caucasian    Male   [60-70)      ?   \n",
       "7         63768    114882984        Caucasian    Male   [70-80)      ?   \n",
       "8         12522     48330783        Caucasian  Female   [80-90)      ?   \n",
       "9         15738     63555939        Caucasian  Female  [90-100)      ?   \n",
       "\n",
       "   admission_type_id  discharge_disposition_id  admission_source_id  \\\n",
       "0                  6                        25                    1   \n",
       "1                  1                         1                    7   \n",
       "2                  1                         1                    7   \n",
       "3                  1                         1                    7   \n",
       "4                  1                         1                    7   \n",
       "5                  2                         1                    2   \n",
       "6                  3                         1                    2   \n",
       "7                  1                         1                    7   \n",
       "8                  2                         1                    4   \n",
       "9                  3                         3                    4   \n",
       "\n",
       "   time_in_hospital  ... citoglipton insulin  glyburide-metformin  \\\n",
       "0                 1  ...          No      No                   No   \n",
       "1                 3  ...          No      Up                   No   \n",
       "2                 2  ...          No      No                   No   \n",
       "3                 2  ...          No      Up                   No   \n",
       "4                 1  ...          No  Steady                   No   \n",
       "5                 3  ...          No  Steady                   No   \n",
       "6                 4  ...          No  Steady                   No   \n",
       "7                 5  ...          No      No                   No   \n",
       "8                13  ...          No  Steady                   No   \n",
       "9                12  ...          No  Steady                   No   \n",
       "\n",
       "   glipizide-metformin  glimepiride-pioglitazone  metformin-rosiglitazone  \\\n",
       "0                   No                        No                       No   \n",
       "1                   No                        No                       No   \n",
       "2                   No                        No                       No   \n",
       "3                   No                        No                       No   \n",
       "4                   No                        No                       No   \n",
       "5                   No                        No                       No   \n",
       "6                   No                        No                       No   \n",
       "7                   No                        No                       No   \n",
       "8                   No                        No                       No   \n",
       "9                   No                        No                       No   \n",
       "\n",
       "   metformin-pioglitazone  change diabetesMed readmitted  \n",
       "0                      No      No          No         NO  \n",
       "1                      No      Ch         Yes        >30  \n",
       "2                      No      No         Yes         NO  \n",
       "3                      No      Ch         Yes         NO  \n",
       "4                      No      Ch         Yes         NO  \n",
       "5                      No      No         Yes        >30  \n",
       "6                      No      Ch         Yes         NO  \n",
       "7                      No      No         Yes        >30  \n",
       "8                      No      Ch         Yes         NO  \n",
       "9                      No      Ch         Yes         NO  \n",
       "\n",
       "[10 rows x 50 columns]"
      ]
     },
     "execution_count": 6,
     "metadata": {},
     "output_type": "execute_result"
    }
   ],
   "source": [
    "diabetes_csv.head(10)"
   ]
  },
  {
   "cell_type": "code",
   "execution_count": 7,
   "metadata": {},
   "outputs": [
    {
     "name": "stdout",
     "output_type": "stream",
     "text": [
      "<class 'pandas.core.frame.DataFrame'>\n",
      "RangeIndex: 101766 entries, 0 to 101765\n",
      "Data columns (total 50 columns):\n",
      " #   Column                    Non-Null Count   Dtype \n",
      "---  ------                    --------------   ----- \n",
      " 0   encounter_id              101766 non-null  int64 \n",
      " 1   patient_nbr               101766 non-null  int64 \n",
      " 2   race                      101766 non-null  object\n",
      " 3   gender                    101766 non-null  object\n",
      " 4   age                       101766 non-null  object\n",
      " 5   weight                    101766 non-null  object\n",
      " 6   admission_type_id         101766 non-null  int64 \n",
      " 7   discharge_disposition_id  101766 non-null  int64 \n",
      " 8   admission_source_id       101766 non-null  int64 \n",
      " 9   time_in_hospital          101766 non-null  int64 \n",
      " 10  payer_code                101766 non-null  object\n",
      " 11  medical_specialty         101766 non-null  object\n",
      " 12  num_lab_procedures        101766 non-null  int64 \n",
      " 13  num_procedures            101766 non-null  int64 \n",
      " 14  num_medications           101766 non-null  int64 \n",
      " 15  number_outpatient         101766 non-null  int64 \n",
      " 16  number_emergency          101766 non-null  int64 \n",
      " 17  number_inpatient          101766 non-null  int64 \n",
      " 18  diag_1                    101766 non-null  object\n",
      " 19  diag_2                    101766 non-null  object\n",
      " 20  diag_3                    101766 non-null  object\n",
      " 21  number_diagnoses          101766 non-null  int64 \n",
      " 22  max_glu_serum             101766 non-null  object\n",
      " 23  A1Cresult                 101766 non-null  object\n",
      " 24  metformin                 101766 non-null  object\n",
      " 25  repaglinide               101766 non-null  object\n",
      " 26  nateglinide               101766 non-null  object\n",
      " 27  chlorpropamide            101766 non-null  object\n",
      " 28  glimepiride               101766 non-null  object\n",
      " 29  acetohexamide             101766 non-null  object\n",
      " 30  glipizide                 101766 non-null  object\n",
      " 31  glyburide                 101766 non-null  object\n",
      " 32  tolbutamide               101766 non-null  object\n",
      " 33  pioglitazone              101766 non-null  object\n",
      " 34  rosiglitazone             101766 non-null  object\n",
      " 35  acarbose                  101766 non-null  object\n",
      " 36  miglitol                  101766 non-null  object\n",
      " 37  troglitazone              101766 non-null  object\n",
      " 38  tolazamide                101766 non-null  object\n",
      " 39  examide                   101766 non-null  object\n",
      " 40  citoglipton               101766 non-null  object\n",
      " 41  insulin                   101766 non-null  object\n",
      " 42  glyburide-metformin       101766 non-null  object\n",
      " 43  glipizide-metformin       101766 non-null  object\n",
      " 44  glimepiride-pioglitazone  101766 non-null  object\n",
      " 45  metformin-rosiglitazone   101766 non-null  object\n",
      " 46  metformin-pioglitazone    101766 non-null  object\n",
      " 47  change                    101766 non-null  object\n",
      " 48  diabetesMed               101766 non-null  object\n",
      " 49  readmitted                101766 non-null  object\n",
      "dtypes: int64(13), object(37)\n",
      "memory usage: 38.8+ MB\n"
     ]
    }
   ],
   "source": [
    "diabetes_csv.info()"
   ]
  },
  {
   "cell_type": "code",
   "execution_count": 8,
   "metadata": {},
   "outputs": [
    {
     "data": {
      "text/html": [
       "<div>\n",
       "<style scoped>\n",
       "    .dataframe tbody tr th:only-of-type {\n",
       "        vertical-align: middle;\n",
       "    }\n",
       "\n",
       "    .dataframe tbody tr th {\n",
       "        vertical-align: top;\n",
       "    }\n",
       "\n",
       "    .dataframe thead th {\n",
       "        text-align: right;\n",
       "    }\n",
       "</style>\n",
       "<table border=\"1\" class=\"dataframe\">\n",
       "  <thead>\n",
       "    <tr style=\"text-align: right;\">\n",
       "      <th></th>\n",
       "      <th>encounter_id</th>\n",
       "      <th>patient_nbr</th>\n",
       "      <th>race</th>\n",
       "      <th>gender</th>\n",
       "      <th>age</th>\n",
       "      <th>weight</th>\n",
       "      <th>admission_type_id</th>\n",
       "      <th>discharge_disposition_id</th>\n",
       "      <th>admission_source_id</th>\n",
       "      <th>time_in_hospital</th>\n",
       "      <th>...</th>\n",
       "      <th>citoglipton</th>\n",
       "      <th>insulin</th>\n",
       "      <th>glyburide-metformin</th>\n",
       "      <th>glipizide-metformin</th>\n",
       "      <th>glimepiride-pioglitazone</th>\n",
       "      <th>metformin-rosiglitazone</th>\n",
       "      <th>metformin-pioglitazone</th>\n",
       "      <th>change</th>\n",
       "      <th>diabetesMed</th>\n",
       "      <th>readmitted</th>\n",
       "    </tr>\n",
       "  </thead>\n",
       "  <tbody>\n",
       "    <tr>\n",
       "      <th>count</th>\n",
       "      <td>1.017660e+05</td>\n",
       "      <td>1.017660e+05</td>\n",
       "      <td>101766</td>\n",
       "      <td>101766</td>\n",
       "      <td>101766</td>\n",
       "      <td>101766</td>\n",
       "      <td>101766.000000</td>\n",
       "      <td>101766.000000</td>\n",
       "      <td>101766.000000</td>\n",
       "      <td>101766.000000</td>\n",
       "      <td>...</td>\n",
       "      <td>101766</td>\n",
       "      <td>101766</td>\n",
       "      <td>101766</td>\n",
       "      <td>101766</td>\n",
       "      <td>101766</td>\n",
       "      <td>101766</td>\n",
       "      <td>101766</td>\n",
       "      <td>101766</td>\n",
       "      <td>101766</td>\n",
       "      <td>101766</td>\n",
       "    </tr>\n",
       "    <tr>\n",
       "      <th>unique</th>\n",
       "      <td>NaN</td>\n",
       "      <td>NaN</td>\n",
       "      <td>6</td>\n",
       "      <td>3</td>\n",
       "      <td>10</td>\n",
       "      <td>10</td>\n",
       "      <td>NaN</td>\n",
       "      <td>NaN</td>\n",
       "      <td>NaN</td>\n",
       "      <td>NaN</td>\n",
       "      <td>...</td>\n",
       "      <td>1</td>\n",
       "      <td>4</td>\n",
       "      <td>4</td>\n",
       "      <td>2</td>\n",
       "      <td>2</td>\n",
       "      <td>2</td>\n",
       "      <td>2</td>\n",
       "      <td>2</td>\n",
       "      <td>2</td>\n",
       "      <td>3</td>\n",
       "    </tr>\n",
       "    <tr>\n",
       "      <th>top</th>\n",
       "      <td>NaN</td>\n",
       "      <td>NaN</td>\n",
       "      <td>Caucasian</td>\n",
       "      <td>Female</td>\n",
       "      <td>[70-80)</td>\n",
       "      <td>?</td>\n",
       "      <td>NaN</td>\n",
       "      <td>NaN</td>\n",
       "      <td>NaN</td>\n",
       "      <td>NaN</td>\n",
       "      <td>...</td>\n",
       "      <td>No</td>\n",
       "      <td>No</td>\n",
       "      <td>No</td>\n",
       "      <td>No</td>\n",
       "      <td>No</td>\n",
       "      <td>No</td>\n",
       "      <td>No</td>\n",
       "      <td>No</td>\n",
       "      <td>Yes</td>\n",
       "      <td>NO</td>\n",
       "    </tr>\n",
       "    <tr>\n",
       "      <th>freq</th>\n",
       "      <td>NaN</td>\n",
       "      <td>NaN</td>\n",
       "      <td>76099</td>\n",
       "      <td>54708</td>\n",
       "      <td>26068</td>\n",
       "      <td>98569</td>\n",
       "      <td>NaN</td>\n",
       "      <td>NaN</td>\n",
       "      <td>NaN</td>\n",
       "      <td>NaN</td>\n",
       "      <td>...</td>\n",
       "      <td>101766</td>\n",
       "      <td>47383</td>\n",
       "      <td>101060</td>\n",
       "      <td>101753</td>\n",
       "      <td>101765</td>\n",
       "      <td>101764</td>\n",
       "      <td>101765</td>\n",
       "      <td>54755</td>\n",
       "      <td>78363</td>\n",
       "      <td>54864</td>\n",
       "    </tr>\n",
       "    <tr>\n",
       "      <th>mean</th>\n",
       "      <td>1.652016e+08</td>\n",
       "      <td>5.433040e+07</td>\n",
       "      <td>NaN</td>\n",
       "      <td>NaN</td>\n",
       "      <td>NaN</td>\n",
       "      <td>NaN</td>\n",
       "      <td>2.024006</td>\n",
       "      <td>3.715642</td>\n",
       "      <td>5.754437</td>\n",
       "      <td>4.395987</td>\n",
       "      <td>...</td>\n",
       "      <td>NaN</td>\n",
       "      <td>NaN</td>\n",
       "      <td>NaN</td>\n",
       "      <td>NaN</td>\n",
       "      <td>NaN</td>\n",
       "      <td>NaN</td>\n",
       "      <td>NaN</td>\n",
       "      <td>NaN</td>\n",
       "      <td>NaN</td>\n",
       "      <td>NaN</td>\n",
       "    </tr>\n",
       "    <tr>\n",
       "      <th>std</th>\n",
       "      <td>1.026403e+08</td>\n",
       "      <td>3.869636e+07</td>\n",
       "      <td>NaN</td>\n",
       "      <td>NaN</td>\n",
       "      <td>NaN</td>\n",
       "      <td>NaN</td>\n",
       "      <td>1.445403</td>\n",
       "      <td>5.280166</td>\n",
       "      <td>4.064081</td>\n",
       "      <td>2.985108</td>\n",
       "      <td>...</td>\n",
       "      <td>NaN</td>\n",
       "      <td>NaN</td>\n",
       "      <td>NaN</td>\n",
       "      <td>NaN</td>\n",
       "      <td>NaN</td>\n",
       "      <td>NaN</td>\n",
       "      <td>NaN</td>\n",
       "      <td>NaN</td>\n",
       "      <td>NaN</td>\n",
       "      <td>NaN</td>\n",
       "    </tr>\n",
       "    <tr>\n",
       "      <th>min</th>\n",
       "      <td>1.252200e+04</td>\n",
       "      <td>1.350000e+02</td>\n",
       "      <td>NaN</td>\n",
       "      <td>NaN</td>\n",
       "      <td>NaN</td>\n",
       "      <td>NaN</td>\n",
       "      <td>1.000000</td>\n",
       "      <td>1.000000</td>\n",
       "      <td>1.000000</td>\n",
       "      <td>1.000000</td>\n",
       "      <td>...</td>\n",
       "      <td>NaN</td>\n",
       "      <td>NaN</td>\n",
       "      <td>NaN</td>\n",
       "      <td>NaN</td>\n",
       "      <td>NaN</td>\n",
       "      <td>NaN</td>\n",
       "      <td>NaN</td>\n",
       "      <td>NaN</td>\n",
       "      <td>NaN</td>\n",
       "      <td>NaN</td>\n",
       "    </tr>\n",
       "    <tr>\n",
       "      <th>25%</th>\n",
       "      <td>8.496119e+07</td>\n",
       "      <td>2.341322e+07</td>\n",
       "      <td>NaN</td>\n",
       "      <td>NaN</td>\n",
       "      <td>NaN</td>\n",
       "      <td>NaN</td>\n",
       "      <td>1.000000</td>\n",
       "      <td>1.000000</td>\n",
       "      <td>1.000000</td>\n",
       "      <td>2.000000</td>\n",
       "      <td>...</td>\n",
       "      <td>NaN</td>\n",
       "      <td>NaN</td>\n",
       "      <td>NaN</td>\n",
       "      <td>NaN</td>\n",
       "      <td>NaN</td>\n",
       "      <td>NaN</td>\n",
       "      <td>NaN</td>\n",
       "      <td>NaN</td>\n",
       "      <td>NaN</td>\n",
       "      <td>NaN</td>\n",
       "    </tr>\n",
       "    <tr>\n",
       "      <th>50%</th>\n",
       "      <td>1.523890e+08</td>\n",
       "      <td>4.550514e+07</td>\n",
       "      <td>NaN</td>\n",
       "      <td>NaN</td>\n",
       "      <td>NaN</td>\n",
       "      <td>NaN</td>\n",
       "      <td>1.000000</td>\n",
       "      <td>1.000000</td>\n",
       "      <td>7.000000</td>\n",
       "      <td>4.000000</td>\n",
       "      <td>...</td>\n",
       "      <td>NaN</td>\n",
       "      <td>NaN</td>\n",
       "      <td>NaN</td>\n",
       "      <td>NaN</td>\n",
       "      <td>NaN</td>\n",
       "      <td>NaN</td>\n",
       "      <td>NaN</td>\n",
       "      <td>NaN</td>\n",
       "      <td>NaN</td>\n",
       "      <td>NaN</td>\n",
       "    </tr>\n",
       "    <tr>\n",
       "      <th>75%</th>\n",
       "      <td>2.302709e+08</td>\n",
       "      <td>8.754595e+07</td>\n",
       "      <td>NaN</td>\n",
       "      <td>NaN</td>\n",
       "      <td>NaN</td>\n",
       "      <td>NaN</td>\n",
       "      <td>3.000000</td>\n",
       "      <td>4.000000</td>\n",
       "      <td>7.000000</td>\n",
       "      <td>6.000000</td>\n",
       "      <td>...</td>\n",
       "      <td>NaN</td>\n",
       "      <td>NaN</td>\n",
       "      <td>NaN</td>\n",
       "      <td>NaN</td>\n",
       "      <td>NaN</td>\n",
       "      <td>NaN</td>\n",
       "      <td>NaN</td>\n",
       "      <td>NaN</td>\n",
       "      <td>NaN</td>\n",
       "      <td>NaN</td>\n",
       "    </tr>\n",
       "    <tr>\n",
       "      <th>max</th>\n",
       "      <td>4.438672e+08</td>\n",
       "      <td>1.895026e+08</td>\n",
       "      <td>NaN</td>\n",
       "      <td>NaN</td>\n",
       "      <td>NaN</td>\n",
       "      <td>NaN</td>\n",
       "      <td>8.000000</td>\n",
       "      <td>28.000000</td>\n",
       "      <td>25.000000</td>\n",
       "      <td>14.000000</td>\n",
       "      <td>...</td>\n",
       "      <td>NaN</td>\n",
       "      <td>NaN</td>\n",
       "      <td>NaN</td>\n",
       "      <td>NaN</td>\n",
       "      <td>NaN</td>\n",
       "      <td>NaN</td>\n",
       "      <td>NaN</td>\n",
       "      <td>NaN</td>\n",
       "      <td>NaN</td>\n",
       "      <td>NaN</td>\n",
       "    </tr>\n",
       "  </tbody>\n",
       "</table>\n",
       "<p>11 rows × 50 columns</p>\n",
       "</div>"
      ],
      "text/plain": [
       "        encounter_id   patient_nbr       race  gender      age  weight  \\\n",
       "count   1.017660e+05  1.017660e+05     101766  101766   101766  101766   \n",
       "unique           NaN           NaN          6       3       10      10   \n",
       "top              NaN           NaN  Caucasian  Female  [70-80)       ?   \n",
       "freq             NaN           NaN      76099   54708    26068   98569   \n",
       "mean    1.652016e+08  5.433040e+07        NaN     NaN      NaN     NaN   \n",
       "std     1.026403e+08  3.869636e+07        NaN     NaN      NaN     NaN   \n",
       "min     1.252200e+04  1.350000e+02        NaN     NaN      NaN     NaN   \n",
       "25%     8.496119e+07  2.341322e+07        NaN     NaN      NaN     NaN   \n",
       "50%     1.523890e+08  4.550514e+07        NaN     NaN      NaN     NaN   \n",
       "75%     2.302709e+08  8.754595e+07        NaN     NaN      NaN     NaN   \n",
       "max     4.438672e+08  1.895026e+08        NaN     NaN      NaN     NaN   \n",
       "\n",
       "        admission_type_id  discharge_disposition_id  admission_source_id  \\\n",
       "count       101766.000000             101766.000000        101766.000000   \n",
       "unique                NaN                       NaN                  NaN   \n",
       "top                   NaN                       NaN                  NaN   \n",
       "freq                  NaN                       NaN                  NaN   \n",
       "mean             2.024006                  3.715642             5.754437   \n",
       "std              1.445403                  5.280166             4.064081   \n",
       "min              1.000000                  1.000000             1.000000   \n",
       "25%              1.000000                  1.000000             1.000000   \n",
       "50%              1.000000                  1.000000             7.000000   \n",
       "75%              3.000000                  4.000000             7.000000   \n",
       "max              8.000000                 28.000000            25.000000   \n",
       "\n",
       "        time_in_hospital  ... citoglipton insulin  glyburide-metformin  \\\n",
       "count      101766.000000  ...      101766  101766               101766   \n",
       "unique               NaN  ...           1       4                    4   \n",
       "top                  NaN  ...          No      No                   No   \n",
       "freq                 NaN  ...      101766   47383               101060   \n",
       "mean            4.395987  ...         NaN     NaN                  NaN   \n",
       "std             2.985108  ...         NaN     NaN                  NaN   \n",
       "min             1.000000  ...         NaN     NaN                  NaN   \n",
       "25%             2.000000  ...         NaN     NaN                  NaN   \n",
       "50%             4.000000  ...         NaN     NaN                  NaN   \n",
       "75%             6.000000  ...         NaN     NaN                  NaN   \n",
       "max            14.000000  ...         NaN     NaN                  NaN   \n",
       "\n",
       "        glipizide-metformin  glimepiride-pioglitazone  \\\n",
       "count                101766                    101766   \n",
       "unique                    2                         2   \n",
       "top                      No                        No   \n",
       "freq                 101753                    101765   \n",
       "mean                    NaN                       NaN   \n",
       "std                     NaN                       NaN   \n",
       "min                     NaN                       NaN   \n",
       "25%                     NaN                       NaN   \n",
       "50%                     NaN                       NaN   \n",
       "75%                     NaN                       NaN   \n",
       "max                     NaN                       NaN   \n",
       "\n",
       "        metformin-rosiglitazone  metformin-pioglitazone  change diabetesMed  \\\n",
       "count                    101766                  101766  101766      101766   \n",
       "unique                        2                       2       2           2   \n",
       "top                          No                      No      No         Yes   \n",
       "freq                     101764                  101765   54755       78363   \n",
       "mean                        NaN                     NaN     NaN         NaN   \n",
       "std                         NaN                     NaN     NaN         NaN   \n",
       "min                         NaN                     NaN     NaN         NaN   \n",
       "25%                         NaN                     NaN     NaN         NaN   \n",
       "50%                         NaN                     NaN     NaN         NaN   \n",
       "75%                         NaN                     NaN     NaN         NaN   \n",
       "max                         NaN                     NaN     NaN         NaN   \n",
       "\n",
       "       readmitted  \n",
       "count      101766  \n",
       "unique          3  \n",
       "top            NO  \n",
       "freq        54864  \n",
       "mean          NaN  \n",
       "std           NaN  \n",
       "min           NaN  \n",
       "25%           NaN  \n",
       "50%           NaN  \n",
       "75%           NaN  \n",
       "max           NaN  \n",
       "\n",
       "[11 rows x 50 columns]"
      ]
     },
     "execution_count": 8,
     "metadata": {},
     "output_type": "execute_result"
    }
   ],
   "source": [
    "diabetes_csv.describe(include = 'all')"
   ]
  },
  {
   "cell_type": "markdown",
   "metadata": {},
   "source": [
    "Initial data exploration shows that we have different types of features (categorical, numerical, and binary), and some of these features also have missing values. The dataset is large and representative, and we can label our target column as `readmitted`. "
   ]
  },
  {
   "cell_type": "markdown",
   "metadata": {},
   "source": [
    "### Pandas Profiling\n",
    "Use Pandas Profiling to create a report about the dataset, including information about each feature, and possible correlations between features. The report is outputted as an interactable html file named `pandas_profiling.html`."
   ]
  },
  {
   "cell_type": "code",
   "execution_count": 7,
   "metadata": {},
   "outputs": [
    {
     "data": {
      "application/vnd.jupyter.widget-view+json": {
       "model_id": "ca385b09715c4a1395b5c91fb7e767d9",
       "version_major": 2,
       "version_minor": 0
      },
      "text/plain": [
       "HBox(children=(HTML(value='Summarize dataset'), FloatProgress(value=0.0, max=64.0), HTML(value='')))"
      ]
     },
     "metadata": {},
     "output_type": "display_data"
    },
    {
     "name": "stdout",
     "output_type": "stream",
     "text": [
      "\n"
     ]
    },
    {
     "data": {
      "application/vnd.jupyter.widget-view+json": {
       "model_id": "442f50fba35344fcafcdaa117b4566d4",
       "version_major": 2,
       "version_minor": 0
      },
      "text/plain": [
       "HBox(children=(HTML(value='Generate report structure'), FloatProgress(value=0.0, max=1.0), HTML(value='')))"
      ]
     },
     "metadata": {},
     "output_type": "display_data"
    },
    {
     "name": "stdout",
     "output_type": "stream",
     "text": [
      "\n"
     ]
    },
    {
     "data": {
      "application/vnd.jupyter.widget-view+json": {
       "model_id": "b2c2eb2959e242c0877198349bdbed00",
       "version_major": 2,
       "version_minor": 0
      },
      "text/plain": [
       "HBox(children=(HTML(value='Render HTML'), FloatProgress(value=0.0, max=1.0), HTML(value='')))"
      ]
     },
     "metadata": {},
     "output_type": "display_data"
    },
    {
     "name": "stdout",
     "output_type": "stream",
     "text": [
      "\n"
     ]
    },
    {
     "data": {
      "application/vnd.jupyter.widget-view+json": {
       "model_id": "4f577acd81ce4134b47ecdffb49b2af5",
       "version_major": 2,
       "version_minor": 0
      },
      "text/plain": [
       "HBox(children=(HTML(value='Export report to file'), FloatProgress(value=0.0, max=1.0), HTML(value='')))"
      ]
     },
     "metadata": {},
     "output_type": "display_data"
    },
    {
     "name": "stdout",
     "output_type": "stream",
     "text": [
      "\n"
     ]
    }
   ],
   "source": [
    "profile = ProfileReport(diabetes_csv, title='Diabetic Patient Readmission')\n",
    "#profile.to_notebook_iframe() # create pandas profiling report in notebook\n",
    "profile.to_file(\"pandas_profiling.html\") # create pandas profiling report in an html file"
   ]
  },
  {
   "cell_type": "markdown",
   "metadata": {},
   "source": [
    "After reviewing the pandas profiling output, we can see that some of our features are not informative to answering our question or contain many missing values. This includes:\n",
    "\n",
    "* encounter_id\n",
    "* patient_nbr\n",
    "* weight (97% missing)\n",
    "* payer_code (52% missing)\n",
    "* medical_specialty (53% missing)\n",
    "* examide (100% of responses were \"NO\")\n",
    "* citoglipton (100% of responses were \"NO\")\n",
    "* race (distribution of yes/no between different races is very similar)\n",
    "\n",
    "We can also see that there is some correlation between specific features, particularily, num_medications and time_in_hospital. \n",
    "\n",
    "Pandas Profiling has also determined potential class imbalance based on the target `readmitted` column having 54864 values of NO, 35545 values of >30, and 11357 values of <30. Class imbalance here can be avoided by changing the `readmitted` column to binary \"YES\" or \"NO\" values if the patient was readmitted or not. This would then give us 54864 \"NO\" values and 46902 \"YES\" values, and thus avoiding class imbalance."
   ]
  },
  {
   "cell_type": "markdown",
   "metadata": {},
   "source": [
    "### Data Wrangling"
   ]
  },
  {
   "cell_type": "code",
   "execution_count": 7,
   "metadata": {},
   "outputs": [
    {
     "data": {
      "text/html": [
       "<div>\n",
       "<style scoped>\n",
       "    .dataframe tbody tr th:only-of-type {\n",
       "        vertical-align: middle;\n",
       "    }\n",
       "\n",
       "    .dataframe tbody tr th {\n",
       "        vertical-align: top;\n",
       "    }\n",
       "\n",
       "    .dataframe thead th {\n",
       "        text-align: right;\n",
       "    }\n",
       "</style>\n",
       "<table border=\"1\" class=\"dataframe\">\n",
       "  <thead>\n",
       "    <tr style=\"text-align: right;\">\n",
       "      <th></th>\n",
       "      <th>gender</th>\n",
       "      <th>age</th>\n",
       "      <th>admission_type_id</th>\n",
       "      <th>discharge_disposition_id</th>\n",
       "      <th>admission_source_id</th>\n",
       "      <th>time_in_hospital</th>\n",
       "      <th>num_lab_procedures</th>\n",
       "      <th>num_procedures</th>\n",
       "      <th>num_medications</th>\n",
       "      <th>number_outpatient</th>\n",
       "      <th>...</th>\n",
       "      <th>tolazamide</th>\n",
       "      <th>insulin</th>\n",
       "      <th>glyburide-metformin</th>\n",
       "      <th>glipizide-metformin</th>\n",
       "      <th>glimepiride-pioglitazone</th>\n",
       "      <th>metformin-rosiglitazone</th>\n",
       "      <th>metformin-pioglitazone</th>\n",
       "      <th>change</th>\n",
       "      <th>diabetesMed</th>\n",
       "      <th>readmitted</th>\n",
       "    </tr>\n",
       "  </thead>\n",
       "  <tbody>\n",
       "    <tr>\n",
       "      <th>0</th>\n",
       "      <td>Female</td>\n",
       "      <td>[0-10)</td>\n",
       "      <td>6</td>\n",
       "      <td>25</td>\n",
       "      <td>1</td>\n",
       "      <td>1</td>\n",
       "      <td>41</td>\n",
       "      <td>0</td>\n",
       "      <td>1</td>\n",
       "      <td>0</td>\n",
       "      <td>...</td>\n",
       "      <td>No</td>\n",
       "      <td>No</td>\n",
       "      <td>No</td>\n",
       "      <td>No</td>\n",
       "      <td>No</td>\n",
       "      <td>No</td>\n",
       "      <td>No</td>\n",
       "      <td>No</td>\n",
       "      <td>No</td>\n",
       "      <td>NO</td>\n",
       "    </tr>\n",
       "    <tr>\n",
       "      <th>1</th>\n",
       "      <td>Female</td>\n",
       "      <td>[10-20)</td>\n",
       "      <td>1</td>\n",
       "      <td>1</td>\n",
       "      <td>7</td>\n",
       "      <td>3</td>\n",
       "      <td>59</td>\n",
       "      <td>0</td>\n",
       "      <td>18</td>\n",
       "      <td>0</td>\n",
       "      <td>...</td>\n",
       "      <td>No</td>\n",
       "      <td>Up</td>\n",
       "      <td>No</td>\n",
       "      <td>No</td>\n",
       "      <td>No</td>\n",
       "      <td>No</td>\n",
       "      <td>No</td>\n",
       "      <td>Ch</td>\n",
       "      <td>Yes</td>\n",
       "      <td>YES</td>\n",
       "    </tr>\n",
       "    <tr>\n",
       "      <th>2</th>\n",
       "      <td>Female</td>\n",
       "      <td>[20-30)</td>\n",
       "      <td>1</td>\n",
       "      <td>1</td>\n",
       "      <td>7</td>\n",
       "      <td>2</td>\n",
       "      <td>11</td>\n",
       "      <td>5</td>\n",
       "      <td>13</td>\n",
       "      <td>2</td>\n",
       "      <td>...</td>\n",
       "      <td>No</td>\n",
       "      <td>No</td>\n",
       "      <td>No</td>\n",
       "      <td>No</td>\n",
       "      <td>No</td>\n",
       "      <td>No</td>\n",
       "      <td>No</td>\n",
       "      <td>No</td>\n",
       "      <td>Yes</td>\n",
       "      <td>NO</td>\n",
       "    </tr>\n",
       "    <tr>\n",
       "      <th>3</th>\n",
       "      <td>Male</td>\n",
       "      <td>[30-40)</td>\n",
       "      <td>1</td>\n",
       "      <td>1</td>\n",
       "      <td>7</td>\n",
       "      <td>2</td>\n",
       "      <td>44</td>\n",
       "      <td>1</td>\n",
       "      <td>16</td>\n",
       "      <td>0</td>\n",
       "      <td>...</td>\n",
       "      <td>No</td>\n",
       "      <td>Up</td>\n",
       "      <td>No</td>\n",
       "      <td>No</td>\n",
       "      <td>No</td>\n",
       "      <td>No</td>\n",
       "      <td>No</td>\n",
       "      <td>Ch</td>\n",
       "      <td>Yes</td>\n",
       "      <td>NO</td>\n",
       "    </tr>\n",
       "    <tr>\n",
       "      <th>4</th>\n",
       "      <td>Male</td>\n",
       "      <td>[40-50)</td>\n",
       "      <td>1</td>\n",
       "      <td>1</td>\n",
       "      <td>7</td>\n",
       "      <td>1</td>\n",
       "      <td>51</td>\n",
       "      <td>0</td>\n",
       "      <td>8</td>\n",
       "      <td>0</td>\n",
       "      <td>...</td>\n",
       "      <td>No</td>\n",
       "      <td>Steady</td>\n",
       "      <td>No</td>\n",
       "      <td>No</td>\n",
       "      <td>No</td>\n",
       "      <td>No</td>\n",
       "      <td>No</td>\n",
       "      <td>Ch</td>\n",
       "      <td>Yes</td>\n",
       "      <td>NO</td>\n",
       "    </tr>\n",
       "    <tr>\n",
       "      <th>5</th>\n",
       "      <td>Male</td>\n",
       "      <td>[50-60)</td>\n",
       "      <td>2</td>\n",
       "      <td>1</td>\n",
       "      <td>2</td>\n",
       "      <td>3</td>\n",
       "      <td>31</td>\n",
       "      <td>6</td>\n",
       "      <td>16</td>\n",
       "      <td>0</td>\n",
       "      <td>...</td>\n",
       "      <td>No</td>\n",
       "      <td>Steady</td>\n",
       "      <td>No</td>\n",
       "      <td>No</td>\n",
       "      <td>No</td>\n",
       "      <td>No</td>\n",
       "      <td>No</td>\n",
       "      <td>No</td>\n",
       "      <td>Yes</td>\n",
       "      <td>YES</td>\n",
       "    </tr>\n",
       "    <tr>\n",
       "      <th>6</th>\n",
       "      <td>Male</td>\n",
       "      <td>[60-70)</td>\n",
       "      <td>3</td>\n",
       "      <td>1</td>\n",
       "      <td>2</td>\n",
       "      <td>4</td>\n",
       "      <td>70</td>\n",
       "      <td>1</td>\n",
       "      <td>21</td>\n",
       "      <td>0</td>\n",
       "      <td>...</td>\n",
       "      <td>No</td>\n",
       "      <td>Steady</td>\n",
       "      <td>No</td>\n",
       "      <td>No</td>\n",
       "      <td>No</td>\n",
       "      <td>No</td>\n",
       "      <td>No</td>\n",
       "      <td>Ch</td>\n",
       "      <td>Yes</td>\n",
       "      <td>NO</td>\n",
       "    </tr>\n",
       "    <tr>\n",
       "      <th>7</th>\n",
       "      <td>Male</td>\n",
       "      <td>[70-80)</td>\n",
       "      <td>1</td>\n",
       "      <td>1</td>\n",
       "      <td>7</td>\n",
       "      <td>5</td>\n",
       "      <td>73</td>\n",
       "      <td>0</td>\n",
       "      <td>12</td>\n",
       "      <td>0</td>\n",
       "      <td>...</td>\n",
       "      <td>No</td>\n",
       "      <td>No</td>\n",
       "      <td>No</td>\n",
       "      <td>No</td>\n",
       "      <td>No</td>\n",
       "      <td>No</td>\n",
       "      <td>No</td>\n",
       "      <td>No</td>\n",
       "      <td>Yes</td>\n",
       "      <td>YES</td>\n",
       "    </tr>\n",
       "    <tr>\n",
       "      <th>8</th>\n",
       "      <td>Female</td>\n",
       "      <td>[80-90)</td>\n",
       "      <td>2</td>\n",
       "      <td>1</td>\n",
       "      <td>4</td>\n",
       "      <td>13</td>\n",
       "      <td>68</td>\n",
       "      <td>2</td>\n",
       "      <td>28</td>\n",
       "      <td>0</td>\n",
       "      <td>...</td>\n",
       "      <td>No</td>\n",
       "      <td>Steady</td>\n",
       "      <td>No</td>\n",
       "      <td>No</td>\n",
       "      <td>No</td>\n",
       "      <td>No</td>\n",
       "      <td>No</td>\n",
       "      <td>Ch</td>\n",
       "      <td>Yes</td>\n",
       "      <td>NO</td>\n",
       "    </tr>\n",
       "    <tr>\n",
       "      <th>9</th>\n",
       "      <td>Female</td>\n",
       "      <td>[90-100)</td>\n",
       "      <td>3</td>\n",
       "      <td>3</td>\n",
       "      <td>4</td>\n",
       "      <td>12</td>\n",
       "      <td>33</td>\n",
       "      <td>3</td>\n",
       "      <td>18</td>\n",
       "      <td>0</td>\n",
       "      <td>...</td>\n",
       "      <td>No</td>\n",
       "      <td>Steady</td>\n",
       "      <td>No</td>\n",
       "      <td>No</td>\n",
       "      <td>No</td>\n",
       "      <td>No</td>\n",
       "      <td>No</td>\n",
       "      <td>Ch</td>\n",
       "      <td>Yes</td>\n",
       "      <td>NO</td>\n",
       "    </tr>\n",
       "  </tbody>\n",
       "</table>\n",
       "<p>10 rows × 42 columns</p>\n",
       "</div>"
      ],
      "text/plain": [
       "   gender       age  admission_type_id  discharge_disposition_id  \\\n",
       "0  Female    [0-10)                  6                        25   \n",
       "1  Female   [10-20)                  1                         1   \n",
       "2  Female   [20-30)                  1                         1   \n",
       "3    Male   [30-40)                  1                         1   \n",
       "4    Male   [40-50)                  1                         1   \n",
       "5    Male   [50-60)                  2                         1   \n",
       "6    Male   [60-70)                  3                         1   \n",
       "7    Male   [70-80)                  1                         1   \n",
       "8  Female   [80-90)                  2                         1   \n",
       "9  Female  [90-100)                  3                         3   \n",
       "\n",
       "   admission_source_id  time_in_hospital  num_lab_procedures  num_procedures  \\\n",
       "0                    1                 1                  41               0   \n",
       "1                    7                 3                  59               0   \n",
       "2                    7                 2                  11               5   \n",
       "3                    7                 2                  44               1   \n",
       "4                    7                 1                  51               0   \n",
       "5                    2                 3                  31               6   \n",
       "6                    2                 4                  70               1   \n",
       "7                    7                 5                  73               0   \n",
       "8                    4                13                  68               2   \n",
       "9                    4                12                  33               3   \n",
       "\n",
       "   num_medications  number_outpatient  ...  tolazamide  insulin  \\\n",
       "0                1                  0  ...          No       No   \n",
       "1               18                  0  ...          No       Up   \n",
       "2               13                  2  ...          No       No   \n",
       "3               16                  0  ...          No       Up   \n",
       "4                8                  0  ...          No   Steady   \n",
       "5               16                  0  ...          No   Steady   \n",
       "6               21                  0  ...          No   Steady   \n",
       "7               12                  0  ...          No       No   \n",
       "8               28                  0  ...          No   Steady   \n",
       "9               18                  0  ...          No   Steady   \n",
       "\n",
       "  glyburide-metformin glipizide-metformin glimepiride-pioglitazone  \\\n",
       "0                  No                  No                       No   \n",
       "1                  No                  No                       No   \n",
       "2                  No                  No                       No   \n",
       "3                  No                  No                       No   \n",
       "4                  No                  No                       No   \n",
       "5                  No                  No                       No   \n",
       "6                  No                  No                       No   \n",
       "7                  No                  No                       No   \n",
       "8                  No                  No                       No   \n",
       "9                  No                  No                       No   \n",
       "\n",
       "   metformin-rosiglitazone metformin-pioglitazone change diabetesMed  \\\n",
       "0                       No                     No     No          No   \n",
       "1                       No                     No     Ch         Yes   \n",
       "2                       No                     No     No         Yes   \n",
       "3                       No                     No     Ch         Yes   \n",
       "4                       No                     No     Ch         Yes   \n",
       "5                       No                     No     No         Yes   \n",
       "6                       No                     No     Ch         Yes   \n",
       "7                       No                     No     No         Yes   \n",
       "8                       No                     No     Ch         Yes   \n",
       "9                       No                     No     Ch         Yes   \n",
       "\n",
       "  readmitted  \n",
       "0         NO  \n",
       "1        YES  \n",
       "2         NO  \n",
       "3         NO  \n",
       "4         NO  \n",
       "5        YES  \n",
       "6         NO  \n",
       "7        YES  \n",
       "8         NO  \n",
       "9         NO  \n",
       "\n",
       "[10 rows x 42 columns]"
      ]
     },
     "execution_count": 7,
     "metadata": {},
     "output_type": "execute_result"
    }
   ],
   "source": [
    "# Change `readmitted` target column to binary \"YES\" or \"NO\" values if admitted or not.\n",
    "pattern = r'[<>]30'\n",
    "diabetes_csv[\"readmitted\"] = diabetes_csv[\"readmitted\"].str.replace(pattern,\"YES\",regex = True)\n",
    "\n",
    "# Convert any ? to na\n",
    "diabetes_csv = diabetes_csv.replace(\"?\", np.NaN)\n",
    "\n",
    "# Drop any rows with na\n",
    "diabetes_clean = diabetes_csv.dropna()\n",
    "\n",
    "# Drop columns not useful to answering our question\n",
    "diabetes_clean = diabetes_csv.drop(columns = [\"encounter_id\", \"patient_nbr\", \"race\", \"weight\", \"payer_code\", \"medical_specialty\", \"examide\", \"citoglipton\"])\n",
    "\n",
    "diabetes_clean.head(10)"
   ]
  },
  {
   "cell_type": "markdown",
   "metadata": {},
   "source": [
    "### Repeated histograms comparing one numerical variable in the x compare to another variable @ Sukhdeep"
   ]
  },
  {
   "cell_type": "markdown",
   "metadata": {},
   "source": [
    "### Overlapping feature histograms to compare against the target to check what features are more important"
   ]
  },
  {
   "cell_type": "code",
   "execution_count": 63,
   "metadata": {},
   "outputs": [
    {
     "data": {
      "application/vnd.vegalite.v4+json": {
       "$schema": "https://vega.github.io/schema/vega-lite/v4.8.1.json",
       "config": {
        "view": {
         "continuousHeight": 300,
         "continuousWidth": 400
        }
       },
       "data": {
        "url": "http://localhost:17398/5899faef9616bea7fa9d3314c54f519d.json"
       },
       "hconcat": [
        {
         "encoding": {
          "color": {
           "field": "readmitted",
           "title": "Readmitted Status",
           "type": "nominal"
          },
          "x": {
           "bin": {
            "maxbins": 10
           },
           "field": "num_medications",
           "title": "Number of Medications",
           "type": "quantitative"
          },
          "y": {
           "aggregate": "count",
           "stack": null,
           "type": "quantitative"
          }
         },
         "height": 100,
         "mark": {
          "interpolate": "step",
          "opacity": 0.3,
          "type": "area"
         },
         "width": 100
        },
        {
         "encoding": {
          "color": {
           "field": "readmitted",
           "title": "Readmitted Status",
           "type": "nominal"
          },
          "x": {
           "bin": {
            "maxbins": 10
           },
           "field": "num_lab_procedures",
           "title": "Number of Lab Procedures",
           "type": "quantitative"
          },
          "y": {
           "aggregate": "count",
           "stack": null,
           "type": "quantitative"
          }
         },
         "height": 100,
         "mark": {
          "interpolate": "step",
          "opacity": 0.3,
          "type": "area"
         },
         "width": 100
        },
        {
         "encoding": {
          "color": {
           "field": "readmitted",
           "title": "Readmitted Status",
           "type": "nominal"
          },
          "x": {
           "bin": {
            "maxbins": 10
           },
           "field": "num_procedures",
           "title": "Number of Procedures other than lab",
           "type": "quantitative"
          },
          "y": {
           "aggregate": "count",
           "stack": null,
           "type": "quantitative"
          }
         },
         "height": 100,
         "mark": {
          "interpolate": "step",
          "opacity": 0.3,
          "type": "area"
         },
         "width": 100
        },
        {
         "encoding": {
          "color": {
           "field": "readmitted",
           "title": "Readmitted Status",
           "type": "nominal"
          },
          "x": {
           "bin": {
            "maxbins": 10
           },
           "field": "diag_1",
           "title": "Primary Diagnosis",
           "type": "quantitative"
          },
          "y": {
           "aggregate": "count",
           "stack": null,
           "type": "quantitative"
          }
         },
         "height": 100,
         "mark": {
          "interpolate": "step",
          "opacity": 0.3,
          "type": "area"
         },
         "width": 100
        },
        {
         "encoding": {
          "color": {
           "field": "readmitted",
           "title": "Readmitted Status",
           "type": "nominal"
          },
          "x": {
           "bin": {
            "maxbins": 10
           },
           "field": "time_in_hospital",
           "title": "Time in hospital",
           "type": "quantitative"
          },
          "y": {
           "aggregate": "count",
           "stack": null,
           "type": "quantitative"
          }
         },
         "height": 100,
         "mark": {
          "interpolate": "step",
          "opacity": 0.3,
          "type": "area"
         },
         "width": 100
        }
       ]
      },
      "image/png": "[encoded data removed]",
      "text/plain": [
       "<VegaLite 4 object>\n",
       "\n",
       "If you see this message, it means the renderer has not been properly enabled\n",
       "for the frontend that you are using. For more information, see\n",
       "https://altair-viz.github.io/user_guide/troubleshooting.html\n"
      ]
     },
     "execution_count": 63,
     "metadata": {},
     "output_type": "execute_result"
    }
   ],
   "source": [
    "#for numerical variables\n",
    "\n",
    "num_var_dict = {\"num_medications\": \"Number of Medications\",\n",
    "            \"num_lab_procedures\": \"Number of Lab Procedures\",\n",
    "            \"num_procedures\": \"Number of Procedures other than lab\", \n",
    "            \"diag_1\" : \"Primary Diagnosis\",\n",
    "            \"time_in_hospital\" : \"Time in hospital\",\n",
    "           }\n",
    "\n",
    "chart1 = []\n",
    "for key, value in num_var_dict.items():\n",
    "    chart1.append(alt.Chart(diabetes_clean).mark_area(\n",
    "        opacity=0.3,\n",
    "        interpolate='step'\n",
    "    ).encode(\n",
    "        alt.X(key, type = \"quantitative\", bin=alt.Bin(maxbins=10), title = value),\n",
    "        alt.Y('count()', stack=None),\n",
    "        alt.Color('readmitted:N', title = \"Readmitted Status\")\n",
    "    ).properties(width = 100, height = 100))\n",
    "horizontal = alt.hconcat(*chart1)"
   ]
  },
  {
   "cell_type": "code",
   "execution_count": 9,
   "metadata": {},
   "outputs": [],
   "source": [
    "df = diabetes_csv[:5000]"
   ]
  },
  {
   "cell_type": "code",
   "execution_count": 13,
   "metadata": {},
   "outputs": [
    {
     "data": {
      "application/vnd.vegalite.v4+json": {
       "$schema": "https://vega.github.io/schema/vega-lite/v4.8.1.json",
       "config": {
        "view": {
         "continuousHeight": 300,
         "continuousWidth": 400
        }
       },
       "data": {
        "url": "http://localhost:21482/f089399d46f2b5505902d7e24c812874.json"
       },
       "hconcat": [
        {
         "encoding": {
          "color": {
           "field": "readmitted",
           "title": "Readmitted Status",
           "type": "nominal"
          },
          "x": {
           "bin": {
            "maxbins": 10
           },
           "field": "num_medications",
           "title": "Number of Medications",
           "type": "quantitative"
          },
          "y": {
           "aggregate": "count",
           "stack": null,
           "type": "quantitative"
          }
         },
         "height": 100,
         "mark": {
          "interpolate": "step",
          "opacity": 0.3,
          "type": "area"
         },
         "width": 100
        },
        {
         "encoding": {
          "color": {
           "field": "readmitted",
           "title": "Readmitted Status",
           "type": "nominal"
          },
          "x": {
           "bin": {
            "maxbins": 10
           },
           "field": "num_lab_procedures",
           "title": "Number of Lab Procedures",
           "type": "quantitative"
          },
          "y": {
           "aggregate": "count",
           "stack": null,
           "type": "quantitative"
          }
         },
         "height": 100,
         "mark": {
          "interpolate": "step",
          "opacity": 0.3,
          "type": "area"
         },
         "width": 100
        },
        {
         "encoding": {
          "color": {
           "field": "readmitted",
           "title": "Readmitted Status",
           "type": "nominal"
          },
          "x": {
           "bin": {
            "maxbins": 10
           },
           "field": "num_procedures",
           "title": "Number of Procedures other than lab",
           "type": "quantitative"
          },
          "y": {
           "aggregate": "count",
           "stack": null,
           "type": "quantitative"
          }
         },
         "height": 100,
         "mark": {
          "interpolate": "step",
          "opacity": 0.3,
          "type": "area"
         },
         "width": 100
        },
        {
         "encoding": {
          "color": {
           "field": "readmitted",
           "title": "Readmitted Status",
           "type": "nominal"
          },
          "x": {
           "bin": {
            "maxbins": 10
           },
           "field": "diag_1",
           "title": "Primary Diagnosis",
           "type": "quantitative"
          },
          "y": {
           "aggregate": "count",
           "stack": null,
           "type": "quantitative"
          }
         },
         "height": 100,
         "mark": {
          "interpolate": "step",
          "opacity": 0.3,
          "type": "area"
         },
         "width": 100
        },
        {
         "encoding": {
          "color": {
           "field": "readmitted",
           "title": "Readmitted Status",
           "type": "nominal"
          },
          "x": {
           "bin": {
            "maxbins": 10
           },
           "field": "time_in_hospital",
           "title": "Time in hospital",
           "type": "quantitative"
          },
          "y": {
           "aggregate": "count",
           "stack": null,
           "type": "quantitative"
          }
         },
         "height": 100,
         "mark": {
          "interpolate": "step",
          "opacity": 0.3,
          "type": "area"
         },
         "width": 100
        },
        {
         "encoding": {
          "color": {
           "field": "readmitted",
           "title": "Readmitted Status",
           "type": "nominal"
          },
          "x": {
           "bin": {
            "maxbins": 10
           },
           "field": "number_outpatient",
           "title": "out",
           "type": "quantitative"
          },
          "y": {
           "aggregate": "count",
           "stack": null,
           "type": "quantitative"
          }
         },
         "height": 100,
         "mark": {
          "interpolate": "step",
          "opacity": 0.3,
          "type": "area"
         },
         "width": 100
        },
        {
         "encoding": {
          "color": {
           "field": "readmitted",
           "title": "Readmitted Status",
           "type": "nominal"
          },
          "x": {
           "bin": {
            "maxbins": 10
           },
           "field": "numer_inpatient",
           "title": "in",
           "type": "quantitative"
          },
          "y": {
           "aggregate": "count",
           "stack": null,
           "type": "quantitative"
          }
         },
         "height": 100,
         "mark": {
          "interpolate": "step",
          "opacity": 0.3,
          "type": "area"
         },
         "width": 100
        },
        {
         "encoding": {
          "color": {
           "field": "readmitted",
           "title": "Readmitted Status",
           "type": "nominal"
          },
          "x": {
           "bin": {
            "maxbins": 10
           },
           "field": "number_emergency",
           "title": "e",
           "type": "quantitative"
          },
          "y": {
           "aggregate": "count",
           "stack": null,
           "type": "quantitative"
          }
         },
         "height": 100,
         "mark": {
          "interpolate": "step",
          "opacity": 0.3,
          "type": "area"
         },
         "width": 100
        },
        {
         "encoding": {
          "color": {
           "field": "readmitted",
           "title": "Readmitted Status",
           "type": "nominal"
          },
          "x": {
           "bin": {
            "maxbins": 10
           },
           "field": "diag_2",
           "title": "2",
           "type": "quantitative"
          },
          "y": {
           "aggregate": "count",
           "stack": null,
           "type": "quantitative"
          }
         },
         "height": 100,
         "mark": {
          "interpolate": "step",
          "opacity": 0.3,
          "type": "area"
         },
         "width": 100
        },
        {
         "encoding": {
          "color": {
           "field": "readmitted",
           "title": "Readmitted Status",
           "type": "nominal"
          },
          "x": {
           "bin": {
            "maxbins": 10
           },
           "field": "number_diagnoses",
           "title": "3",
           "type": "quantitative"
          },
          "y": {
           "aggregate": "count",
           "stack": null,
           "type": "quantitative"
          }
         },
         "height": 100,
         "mark": {
          "interpolate": "step",
          "opacity": 0.3,
          "type": "area"
         },
         "width": 100
        }
       ]
      },
      "image/png": "[encoded data removed]",
      "text/plain": [
       "<VegaLite 4 object>\n",
       "\n",
       "If you see this message, it means the renderer has not been properly enabled\n",
       "for the frontend that you are using. For more information, see\n",
       "https://altair-viz.github.io/user_guide/troubleshooting.html\n"
      ]
     },
     "execution_count": 13,
     "metadata": {},
     "output_type": "execute_result"
    }
   ],
   "source": [
    "num_var_dict = {\"num_medications\": \"Number of Medications\",\n",
    "            \"num_lab_procedures\": \"Number of Lab Procedures\",\n",
    "            \"num_procedures\": \"Number of Procedures other than lab\", \n",
    "            \"diag_1\" : \"Primary Diagnosis\",\n",
    "            \"time_in_hospital\" : \"Time in hospital\",\n",
    "                \"number_outpatient\":\"out\",\n",
    "                \"numer_inpatient\":\"in\",\n",
    "                \"number_emergency\":\"e\",\n",
    "                \"diag_2\":\"2\",\n",
    "                \"number_diagnoses\":\"3\",\n",
    "           }\n",
    "\n",
    "chart1 = []\n",
    "for key, value in num_var_dict.items():\n",
    "    chart1.append(alt.Chart(df).mark_area(\n",
    "        opacity=0.3,\n",
    "        interpolate='step'\n",
    "    ).encode(\n",
    "        alt.X(key, type = \"quantitative\", bin=alt.Bin(maxbins=10), title = value),\n",
    "        alt.Y('count()', stack=None),\n",
    "        alt.Color('readmitted:N', title = \"Readmitted Status\")\n",
    "    ).properties(width = 100, height = 100))\n",
    "\n",
    "horizontal = alt.hconcat(*chart1)\n",
    "horizontal"
   ]
  },
  {
   "cell_type": "code",
   "execution_count": 81,
   "metadata": {},
   "outputs": [
    {
     "data": {
      "application/vnd.vegalite.v4+json": {
       "$schema": "https://vega.github.io/schema/vega-lite/v4.8.1.json",
       "config": {
        "view": {
         "continuousHeight": 300,
         "continuousWidth": 400
        }
       },
       "data": {
        "url": "http://localhost:17398/5899faef9616bea7fa9d3314c54f519d.json"
       },
       "encoding": {
        "color": {
         "aggregate": "count",
         "type": "quantitative"
        },
        "x": {
         "field": "readmitted",
         "title": "Readmitted Status",
         "type": "nominal"
        },
        "y": {
         "field": "age",
         "title": null,
         "type": "nominal"
        }
       },
       "height": 300,
       "mark": "rect",
       "width": 100
      },
      "image/png": "[encoded data removed]",
      "text/plain": [
       "<VegaLite 4 object>\n",
       "\n",
       "If you see this message, it means the renderer has not been properly enabled\n",
       "for the frontend that you are using. For more information, see\n",
       "https://altair-viz.github.io/user_guide/troubleshooting.html\n"
      ]
     },
     "execution_count": 81,
     "metadata": {},
     "output_type": "execute_result"
    }
   ],
   "source": [
    "age_plot = alt.Chart(diabetes_clean).mark_rect().encode(\n",
    "        y = alt.Y(\"age:N\", title = None),\n",
    "        x = alt.X(\"readmitted\", title = \"Readmitted Status\"),\n",
    "        color = \"count()\",\n",
    "    ).properties(width = 100, height = 300)\n",
    "\n",
    "age_plot"
   ]
  },
  {
   "cell_type": "code",
   "execution_count": 34,
   "metadata": {},
   "outputs": [
    {
     "data": {
      "application/vnd.vegalite.v4+json": {
       "$schema": "https://vega.github.io/schema/vega-lite/v4.8.1.json",
       "config": {
        "view": {
         "continuousHeight": 300,
         "continuousWidth": 400
        }
       },
       "data": {
        "url": "http://localhost:21482/5899faef9616bea7fa9d3314c54f519d.json"
       },
       "hconcat": [
        {
         "encoding": {
          "color": {
           "aggregate": "count",
           "type": "quantitative"
          },
          "x": {
           "field": "A1Cresult",
           "stack": null,
           "title": "Hemoglobin A1C Levels",
           "type": "nominal"
          },
          "y": {
           "field": "readmitted",
           "title": "Readmitted Status",
           "type": "nominal"
          }
         },
         "height": 120,
         "mark": "rect",
         "width": 100
        },
        {
         "encoding": {
          "color": {
           "aggregate": "count",
           "type": "quantitative"
          },
          "x": {
           "field": "metformin",
           "stack": null,
           "title": "Prescribed Metformin or Changed Dosage",
           "type": "nominal"
          },
          "y": {
           "field": "readmitted",
           "title": "Readmitted Status",
           "type": "nominal"
          }
         },
         "height": 120,
         "mark": "rect",
         "width": 100
        },
        {
         "encoding": {
          "color": {
           "aggregate": "count",
           "type": "quantitative"
          },
          "x": {
           "field": "insulin",
           "stack": null,
           "title": "Prescribed Insulin or Changed Dosage",
           "type": "nominal"
          },
          "y": {
           "field": "readmitted",
           "title": "Readmitted Status",
           "type": "nominal"
          }
         },
         "height": 120,
         "mark": "rect",
         "width": 100
        },
        {
         "encoding": {
          "color": {
           "aggregate": "count",
           "type": "quantitative"
          },
          "x": {
           "field": "max_glu_serum",
           "stack": null,
           "title": "Glucose Serum Levels",
           "type": "nominal"
          },
          "y": {
           "field": "readmitted",
           "title": "Readmitted Status",
           "type": "nominal"
          }
         },
         "height": 120,
         "mark": "rect",
         "width": 100
        }
       ]
      },
      "image/png": "[encoded data removed]",
      "text/plain": [
       "<VegaLite 4 object>\n",
       "\n",
       "If you see this message, it means the renderer has not been properly enabled\n",
       "for the frontend that you are using. For more information, see\n",
       "https://altair-viz.github.io/user_guide/troubleshooting.html\n"
      ]
     },
     "execution_count": 34,
     "metadata": {},
     "output_type": "execute_result"
    }
   ],
   "source": [
    "cat_var_dict = {\"A1Cresult\": \"Hemoglobin A1C Levels\",\n",
    "            \"metformin\": \"Prescribed Metformin or Changed Dosage\",\n",
    "            \"insulin\": \"Prescribed Insulin or Changed Dosage\", \n",
    "            \"max_glu_serum\" : \"Glucose Serum Levels\",\n",
    "           }\n",
    "\n",
    "chart2 = []\n",
    "for key, value in cat_var_dict.items():\n",
    "    chart2.append(alt.Chart(diabetes_clean).mark_rect().encode(\n",
    "        alt.Y(\"readmitted\", type = \"nominal\", title = \"Readmitted Status\"),\n",
    "        alt.X(key, type = \"nominal\", stack=None,  title = value),\n",
    "        alt.Color('count()')\n",
    "    ).properties(width = 100, height = 120))\n",
    "\n",
    "horizontal2 = alt.hconcat(*chart2)\n",
    "horizontal2\n"
   ]
  },
  {
   "cell_type": "markdown",
   "metadata": {},
   "source": [
    "### Look at the correlation of the variables against targets in point correlation matrix @Sukhdeep"
   ]
  },
  {
   "cell_type": "markdown",
   "metadata": {},
   "source": [
    "### Scatterplot @ Sukhdeep"
   ]
  },
  {
   "cell_type": "markdown",
   "metadata": {},
   "source": [
    "### Distribution of race in the dataset and the difference in the readmission status between races "
   ]
  },
  {
   "cell_type": "code",
   "execution_count": 80,
   "metadata": {},
   "outputs": [
    {
     "data": {
      "application/vnd.vegalite.v4+json": {
       "$schema": "https://vega.github.io/schema/vega-lite/v4.8.1.json",
       "config": {
        "view": {
         "continuousHeight": 300,
         "continuousWidth": 400
        }
       },
       "data": {
        "url": "http://localhost:17398/dd153e4f7c1a6849f70998e7153d6424.json"
       },
       "encoding": {
        "color": {
         "aggregate": "count",
         "type": "quantitative"
        },
        "x": {
         "field": "readmitted",
         "title": "Readmitted Status",
         "type": "nominal"
        },
        "y": {
         "field": "race",
         "title": null,
         "type": "nominal"
        }
       },
       "height": 300,
       "mark": "rect",
       "width": 100
      },
      "image/png": "[encoded data removed]",
      "text/plain": [
       "<VegaLite 4 object>\n",
       "\n",
       "If you see this message, it means the renderer has not been properly enabled\n",
       "for the frontend that you are using. For more information, see\n",
       "https://altair-viz.github.io/user_guide/troubleshooting.html\n"
      ]
     },
     "execution_count": 80,
     "metadata": {},
     "output_type": "execute_result"
    }
   ],
   "source": [
    "race_plot_b = alt.Chart(diabetes_csv).mark_rect().encode(\n",
    "    y = alt.Y(\"race:N\", title = None),\n",
    "    x = alt.X(\"readmitted\", title = \"Readmitted Status\"),\n",
    "    color = \"count()\",\n",
    ").properties(width = 100, height = 300)\n",
    "\n",
    "race_plot_b"
   ]
  },
  {
   "cell_type": "markdown",
   "metadata": {},
   "source": [
    "### remember to save png files "
   ]
  },
  {
   "cell_type": "markdown",
   "metadata": {},
   "source": [
    "### Split Data into Training and Testing Before Further Exploration"
   ]
  },
  {
   "cell_type": "code",
   "execution_count": 27,
   "metadata": {},
   "outputs": [],
   "source": [
    "# Split the data into training (0.8) and testing (0.2)\n",
    "train_df, test_df = train_test_split(diabetes_clean, test_size=0.2, random_state=123)\n",
    "\n",
    "# Split the data into X and Y\n",
    "X_train, y_train = train_df.drop(columns=[\"readmitted\"]), train_df[\"readmitted\"] \n",
    "X_test, y_test = test_df.drop(columns=[\"readmitted\"]), test_df[\"readmitted\"]"
   ]
  }
 ],
 "metadata": {
  "kernelspec": {
   "display_name": "Python 3",
   "language": "python",
   "name": "python3"
  },
  "language_info": {
   "codemirror_mode": {
    "name": "ipython",
    "version": 3
   },
   "file_extension": ".py",
   "mimetype": "text/x-python",
   "name": "python",
   "nbconvert_exporter": "python",
   "pygments_lexer": "ipython3",
   "version": "3.8.3"
  }
 },
 "nbformat": 4,
 "nbformat_minor": 4
}
